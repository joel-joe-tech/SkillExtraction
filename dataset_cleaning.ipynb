{
 "cells": [
  {
   "cell_type": "code",
   "execution_count": 5,
   "metadata": {},
   "outputs": [],
   "source": [
    "import pandas as pd\n",
    "import numpy as np\n",
    "\n",
    "# Load dataset\n",
    "file_path = \"dataset/job_descriptions.csv\"\n",
    "df = pd.read_csv(file_path)\n",
    "\n"
   ]
  },
  {
   "cell_type": "code",
   "execution_count": 7,
   "metadata": {},
   "outputs": [
    {
     "name": "stdout",
     "output_type": "stream",
     "text": [
      "Index(['job id', 'experience', 'qualifications', 'salary range', 'Location',\n",
      "       'country', 'Latitude', 'Longitude', 'work type', 'company size',\n",
      "       'job posting date', 'preference', 'contact person', 'contact',\n",
      "       'job title', 'role', 'job portal', 'job description', 'benefits',\n",
      "       'Skills', 'responsibilities', 'Company Name', 'company profile'],\n",
      "      dtype='object')\n"
     ]
    }
   ],
   "source": [
    "print(df.columns)\n",
    "\n",
    "\n"
   ]
  },
  {
   "cell_type": "code",
   "execution_count": 8,
   "metadata": {},
   "outputs": [],
   "source": [
    "# Standardize column names (strip spaces, make lowercase for consistency)\n",
    "df.columns = df.columns.str.strip().str.lower()\n",
    "\n",
    "# Rename columns for consistency\n",
    "df.rename(columns={\n",
    "    'location': 'location',\n",
    "    'latitude': 'latitude',\n",
    "    'longitude': 'longitude',\n",
    "    'skills': 'skills',\n",
    "    'company name': 'company name',\n",
    "    'salary range': 'salary range'\n",
    "}, inplace=True)\n",
    "\n",
    "# Handling missing values: Fill NaN values with appropriate defaults\n",
    "df.fillna({\n",
    "    'experience': 'Not Specified',\n",
    "    'qualifications': 'Not Specified',\n",
    "    'salary range': 'Not Specified',\n",
    "    'location': 'Unknown',\n",
    "    'company name': 'Unknown',\n",
    "    'work type': 'Unknown',\n",
    "    'job description': 'Not Available',\n",
    "    'skills': 'None',\n",
    "    'responsibilities': 'Not Available'\n",
    "}, inplace=True)\n",
    "\n",
    "# Standardize Job Titles & Company Names (Title Case)\n",
    "df['job title'] = df['job title'].str.title()\n",
    "df['company name'] = df['company name'].str.title()\n",
    "\n",
    "# Convert Salary Range: \"$59K-$99K\" → \"59000-99000\"\n",
    "df['salary range'] = df['salary range'].str.replace(r'[\\$,K]', '', regex=True)\n",
    "\n",
    "# Convert Job Posting Date to datetime format\n",
    "df['job posting date'] = pd.to_datetime(df['job posting date'], errors='coerce')\n",
    "\n",
    "# Extract Min & Max Experience (if available)\n",
    "df[['min experience', 'max experience']] = df['experience'].str.extract(r'(\\d+)\\s*to\\s*(\\d+)')\n",
    "df['min experience'] = pd.to_numeric(df['min experience'], errors='coerce').fillna(0)\n",
    "df['max experience'] = pd.to_numeric(df['max experience'], errors='coerce').fillna(0)"
   ]
  },
  {
   "cell_type": "code",
   "execution_count": 9,
   "metadata": {},
   "outputs": [
    {
     "name": "stdout",
     "output_type": "stream",
     "text": [
      "✅ Dataset cleaned and saved to dataset/job_descriptions_cleaned.csv\n"
     ]
    }
   ],
   "source": [
    "# Save cleaned dataset\n",
    "cleaned_file_path = \"dataset/job_descriptions_cleaned.csv\"\n",
    "df.to_csv(cleaned_file_path, index=False)\n",
    "\n",
    "print(f\"✅ Dataset cleaned and saved to {cleaned_file_path}\")"
   ]
  },
  {
   "cell_type": "code",
   "execution_count": null,
   "metadata": {},
   "outputs": [],
   "source": []
  }
 ],
 "metadata": {
  "kernelspec": {
   "display_name": "Python 3",
   "language": "python",
   "name": "python3"
  },
  "language_info": {
   "codemirror_mode": {
    "name": "ipython",
    "version": 3
   },
   "file_extension": ".py",
   "mimetype": "text/x-python",
   "name": "python",
   "nbconvert_exporter": "python",
   "pygments_lexer": "ipython3",
   "version": "3.12.0"
  }
 },
 "nbformat": 4,
 "nbformat_minor": 2
}
